{
 "cells": [
  {
   "cell_type": "code",
   "execution_count": 7,
   "id": "b528a4d3",
   "metadata": {},
   "outputs": [],
   "source": [
    "# pip install tritonclient"
   ]
  },
  {
   "cell_type": "code",
   "execution_count": 8,
   "id": "91cdc560",
   "metadata": {},
   "outputs": [],
   "source": [
    "# pip install geventhttpclient"
   ]
  },
  {
   "cell_type": "code",
   "execution_count": 8,
   "id": "e3c4d61a",
   "metadata": {},
   "outputs": [],
   "source": [
    "import argparse\n",
    "import numpy as np\n",
    "import sys\n",
    "from functools import partial\n",
    "import os\n",
    "\n",
    "import tritonclient.grpc as tritongrpcclient\n",
    "import tritonclient.grpc.model_config_pb2 as mc\n",
    "import tritonclient.http as tritonhttpclient"
   ]
  },
  {
   "cell_type": "code",
   "execution_count": 9,
   "id": "ecefb6f0",
   "metadata": {},
   "outputs": [],
   "source": [
    "def bar_plot(ax, data, colors=None, total_width=0.8, single_width=1, legend=True):\n",
    "    \"\"\"Draws a bar plot with multiple bars per data point.\n",
    "\n",
    "    Parameters\n",
    "    ----------\n",
    "    ax : matplotlib.pyplot.axis\n",
    "        The axis we want to draw our plot on.\n",
    "\n",
    "    data: dictionary\n",
    "        A dictionary containing the data we want to plot. Keys are the names of the\n",
    "        data, the items is a list of the values.\n",
    "\n",
    "        Example:\n",
    "        data = {\n",
    "            \"x\":[1,2,3],\n",
    "            \"y\":[1,2,3],\n",
    "            \"z\":[1,2,3],\n",
    "        }\n",
    "\n",
    "    colors : array-like, optional\n",
    "        A list of colors which are used for the bars. If None, the colors\n",
    "        will be the standard matplotlib color cyle. (default: None)\n",
    "\n",
    "    total_width : float, optional, default: 0.8\n",
    "        The width of a bar group. 0.8 means that 80% of the x-axis is covered\n",
    "        by bars and 20% will be spaces between the bars.\n",
    "\n",
    "    single_width: float, optional, default: 1\n",
    "        The relative width of a single bar within a group. 1 means the bars\n",
    "        will touch eachother within a group, values less than 1 will make\n",
    "        these bars thinner.\n",
    "\n",
    "    legend: bool, optional, default: True\n",
    "        If this is set to true, a legend will be added to the axis.\n",
    "    \"\"\"\n",
    "\n",
    "    # Check if colors where provided, otherwhise use the default color cycle\n",
    "    if colors is None:\n",
    "        colors = plt.rcParams['axes.prop_cycle'].by_key()['color']\n",
    "\n",
    "    # Number of bars per group\n",
    "    n_bars = len(data)\n",
    "\n",
    "    # The width of a single bar\n",
    "    bar_width = total_width / n_bars\n",
    "\n",
    "    # List containing handles for the drawn bars, used for the legend\n",
    "    bars = []\n",
    "\n",
    "    # Iterate over all data\n",
    "    for i, (name, values) in enumerate(data.items()):\n",
    "        # The offset in x direction of that bar\n",
    "        x_offset = (i - n_bars / 2) * bar_width + bar_width / 2\n",
    "\n",
    "        # Draw a bar for every value of that type\n",
    "        for x, y in enumerate(values):\n",
    "            bar = ax.bar(x + x_offset, y, width=bar_width * single_width, color=colors[i % len(colors)])\n",
    "\n",
    "        # Add a handle to the last drawn bar, which we'll need for the legend\n",
    "        bars.append(bar[0])\n",
    "\n",
    "    # Draw legend if we need\n",
    "    if legend:\n",
    "        ax.legend(bars, data.keys())\n",
    "\n",
    "def plot_latency(times: list, batch_sizes: list):\n",
    "    means, medians = [np.mean(i) for i in times], [np.median(i) for i in times]\n",
    "    plt.figure(figsize=(16, 6))\n",
    "    plt.style.use('ggplot')\n",
    "\n",
    "    plt.title('Latency (lower is better)')\n",
    "    plt.bar(\n",
    "        [str(i) for i in batch_sizes], \n",
    "        [a for a, b in zip(means, batch_sizes)],\n",
    "        label='mean'\n",
    "    )\n",
    "\n",
    "    plt.bar(\n",
    "        [str(i) for i in batch_sizes], \n",
    "        [a for a, b in zip(medians, batch_sizes)],\n",
    "        label='median'\n",
    "    )\n",
    "\n",
    "    plt.xlabel('~num parallel requests')\n",
    "    plt.ylabel('sec.')\n",
    "\n",
    "    plt.legend()\n",
    "    plt.show()\n",
    "    \n",
    "def plot_total_time(total_times: list, batch_sizes: list):\n",
    "    plt.figure(figsize=(16, 6))\n",
    "    plt.style.use('ggplot')\n",
    "\n",
    "    plt.title('Total time (lower is better)')\n",
    "\n",
    "    plt.bar(\n",
    "        [str(i) for i in batch_sizes], \n",
    "        [a / b for a, b in zip(total_times, batch_sizes)]\n",
    "    )\n",
    "\n",
    "    plt.xlabel('~num parallel requests')\n",
    "    plt.ylabel('sec.')\n",
    "    plt.show()\n",
    "\n",
    "def cross_plot_latency(model_times: dict, batch_sizes: list, agg = np.mean):\n",
    "    fig, ax = plt.subplots(figsize=(16, 6), ncols=1, nrows=1)\n",
    "    plt.style.use('ggplot')\n",
    "\n",
    "    plt.title('Latency (lower is better)')\n",
    "    bar_plot(ax, {k: [agg(i) for i in v] for k, v in model_times.items()})\n",
    "    ax.set_xticks([i for i in range(len(batch_sizes))])\n",
    "    ax.set_xticklabels([str(i) for i in batch_sizes])\n",
    "    plt.xlabel('~num parallel requests')\n",
    "    plt.ylabel('sec.')\n",
    "\n",
    "    \n",
    "def cross_plot_total_time(model_times: dict, batch_sizes: list):\n",
    "    fig, ax = plt.subplots(figsize=(16, 6), ncols=1, nrows=1)\n",
    "    plt.style.use('ggplot')\n",
    "\n",
    "    plt.title('Total time (lower is better)')\n",
    "    bar_plot(ax, {k: [i / b for i, b in zip(v, batch_sizes)] for k, v in model_times.items()})\n",
    "    ax.set_xticks([i for i in range(len(batch_sizes))])\n",
    "    ax.set_xticklabels([str(i) for i in batch_sizes])\n",
    "    plt.xlabel('~num parallel requests')\n",
    "    plt.ylabel('sec.')"
   ]
  },
  {
   "cell_type": "code",
   "execution_count": 10,
   "id": "00bfd546",
   "metadata": {},
   "outputs": [],
   "source": [
    "import tritonclient.http as triton_client"
   ]
  },
  {
   "cell_type": "code",
   "execution_count": 11,
   "id": "dc00bb4f",
   "metadata": {},
   "outputs": [],
   "source": [
    "from multiprocessing import Process, Queue\n",
    "import time\n",
    "import random\n",
    "import tensorflow as tf\n",
    "\n",
    "MODEL_NAME = 'FastPitch'\n",
    "MODEL_VERSION = '1'\n",
    "TEXTNAME = \"TEXT\"\n",
    "OUTPUT_NAME = 'output_0'\n",
    "\n",
    "class TukTukEpta(Process):\n",
    "    \n",
    "    def __init__(\n",
    "        self, \n",
    "        work_queue: Queue, \n",
    "        time_queue: Queue, \n",
    "        length: int = 100, \n",
    "        model_name: str = MODEL_NAME\n",
    "    ):\n",
    "        super().__init__()\n",
    "        self.client = None\n",
    "        self.model_metadata = None\n",
    "        self.model_config = None\n",
    "        self.length = length\n",
    "        \n",
    "        self.model_name = model_name\n",
    "        \n",
    "        self.work_queue = work_queue\n",
    "        self.time_queue = time_queue\n",
    "    \n",
    "    @staticmethod\n",
    "    def construct_inputs(length: int, count: int) -> list:\n",
    "        inputs = []\n",
    "        for _ in range(count):\n",
    "            input_string = ''.join(random.choices(\"абвгвжлппрашыфл\", k=length))\n",
    "            model_in = [\n",
    "                tritonhttpclient.InferInput(TEXTNAME, [1], \"BYTES\"),\n",
    "            ]\n",
    "            model_in[0].set_data_from_numpy(np.asarray(input_string, dtype=\"object\").reshape([1]))\n",
    "            inputs.append(model_in)\n",
    "        return inputs\n",
    "    \n",
    "    def infer_input(self, in_data: tritonhttpclient.InferInput):\n",
    "        response = self.client.infer(\n",
    "            self.model_name,  \n",
    "            inputs=[*in_data], \n",
    "            outputs=[tritonhttpclient.InferRequestedOutput(OUTPUT_NAME,  binary_data=True)]\n",
    "        )\n",
    "        return response\n",
    "    \n",
    "    def init_client(self):\n",
    "        self.client = tritonhttpclient.InferenceServerClient(url='localhost:8000')\n",
    "        self.model_metadata = self.client.get_model_metadata(model_name=self.model_name, model_version=MODEL_VERSION)\n",
    "        self.model_config = self.client.get_model_config(model_name=self.model_name, model_version=MODEL_VERSION)\n",
    "    \n",
    "    def run(self):\n",
    "        self.init_client()\n",
    "        inputs = self.construct_inputs(self.length, 1)\n",
    "        while True:\n",
    "            \n",
    "            work = self.work_queue.get()\n",
    "            if work is None:\n",
    "                break\n",
    "\n",
    "            stime = time.perf_counter()\n",
    "            self.infer_input(inputs[0])\n",
    "            t = time.perf_counter() - stime\n",
    "            \n",
    "            self.time_queue.put(t)"
   ]
  },
  {
   "cell_type": "code",
   "execution_count": 12,
   "id": "115b4951",
   "metadata": {},
   "outputs": [],
   "source": [
    "# pip install matplotlib"
   ]
  },
  {
   "cell_type": "code",
   "execution_count": 13,
   "id": "a19d1cd2",
   "metadata": {},
   "outputs": [],
   "source": [
    "import matplotlib.pyplot as plt\n",
    "import time\n",
    "import numpy as np\n",
    "import random\n",
    "from tqdm import tqdm\n",
    "\n",
    "def test_model(batch_sizes: list, lengths: tuple, times_to_test: int, model_name: str):\n",
    "\n",
    "    times = []\n",
    "    total_times = []\n",
    "    for bs in tqdm(batch_sizes):\n",
    "        in_queue = Queue()\n",
    "        out_queue = Queue()\n",
    "        for _ in range(times_to_test * min(bs, 32)):\n",
    "            in_queue.put(1)\n",
    "        for _ in range(bs):\n",
    "            in_queue.put(None)\n",
    "            \n",
    "        workers = [TukTukEpta(\n",
    "            in_queue, out_queue, random.randint(*length), model_name=model_name\n",
    "        ) for _ in range(bs)]\n",
    "\n",
    "        start = time.perf_counter()\n",
    "        for w in workers:\n",
    "            w.start()\n",
    "        for w in workers:\n",
    "            w.join()\n",
    "        out_queue.put(None)\n",
    "        total_times.append(time.perf_counter() - start)\n",
    "\n",
    "        _times = []\n",
    "        while True:\n",
    "            t = out_queue.get()\n",
    "            if t is None:\n",
    "                break\n",
    "            _times.append(t)\n",
    "\n",
    "        times.append(_times)\n",
    "    \n",
    "    return times, total_times\n"
   ]
  },
  {
   "cell_type": "code",
   "execution_count": 20,
   "id": "7986ac12",
   "metadata": {},
   "outputs": [
    {
     "name": "stderr",
     "output_type": "stream",
     "text": [
      "100%|██████████| 4/4 [00:08<00:00,  2.07s/it]\n"
     ]
    }
   ],
   "source": [
    "batch_sizes = [1, 2, 4, 16]\n",
    "length = (100, 100)\n",
    "times_to_test = 100\n",
    "\n",
    "time_map = {}\n",
    "for model in ['ensemble_model']:\n",
    "    a, b = test_model(batch_sizes, length, times_to_test, model)\n",
    "    time_map[model] = (a, b)"
   ]
  },
  {
   "cell_type": "code",
   "execution_count": null,
   "id": "13de5cbb",
   "metadata": {},
   "outputs": [],
   "source": [
    "name_map = {\n",
    "    'FastPitch': 'FastPitch-TS-FP16',\n",
    "    'FastPitchFP32': 'FastPitch-TS-FP32'    \n",
    "}\n",
    "for n1, n2 in name_map.items():\n",
    "    time_map[n2] = time_map[n1]\n",
    "    del time_map[n1]"
   ]
  },
  {
   "cell_type": "code",
   "execution_count": 22,
   "id": "cc21e9b9",
   "metadata": {},
   "outputs": [
    {
     "name": "stdout",
     "output_type": "stream",
     "text": [
      "Model: ensemble_model\n"
     ]
    },
    {
     "data": {
      "image/png": "[encoded data removed]",
      "text/plain": [
       "<Figure size 1152x432 with 1 Axes>"
      ]
     },
     "metadata": {},
     "output_type": "display_data"
    },
    {
     "data": {
      "image/png": "[encoded data removed]",
      "text/plain": [
       "<Figure size 1152x432 with 1 Axes>"
      ]
     },
     "metadata": {},
     "output_type": "display_data"
    }
   ],
   "source": [
    "for model, times in time_map.items():\n",
    "    print('Model:', model)\n",
    "    plot_latency(times[0], batch_sizes)\n",
    "    plot_total_time(times[1], batch_sizes)"
   ]
  },
  {
   "cell_type": "code",
   "execution_count": 23,
   "id": "6c110407",
   "metadata": {},
   "outputs": [],
   "source": [
    "import collections\n",
    "\n",
    "model_to_latency = {k: v[0] for k, v in time_map.items()}\n",
    "model_to_total = {k: v[1] for k, v in time_map.items()}\n",
    "\n",
    "model_to_latency = collections.OrderedDict(\n",
    "    sorted(\n",
    "        model_to_latency.items(), \n",
    "        key=lambda x: sum([sum(i) for i in x[1]]),\n",
    "        reverse=False\n",
    "    )\n",
    ")\n",
    "\n",
    "model_to_total = collections.OrderedDict(\n",
    "    sorted(\n",
    "        model_to_total.items(), \n",
    "        key=lambda x: sum([i for i in x[1]]),\n",
    "        reverse=False\n",
    "    )\n",
    ")"
   ]
  },
  {
   "cell_type": "code",
   "execution_count": 24,
   "id": "2dfee29e",
   "metadata": {},
   "outputs": [
    {
     "data": {
      "image/png": "[encoded data removed]",
      "text/plain": [
       "<Figure size 1152x432 with 1 Axes>"
      ]
     },
     "metadata": {},
     "output_type": "display_data"
    }
   ],
   "source": [
    "cross_plot_latency(model_to_latency, batch_sizes, agg=np.median)"
   ]
  },
  {
   "cell_type": "code",
   "execution_count": 25,
   "id": "2988240e",
   "metadata": {},
   "outputs": [
    {
     "data": {
      "image/png": "[encoded data removed]",
      "text/plain": [
       "<Figure size 1152x432 with 1 Axes>"
      ]
     },
     "metadata": {},
     "output_type": "display_data"
    }
   ],
   "source": [
    "cross_plot_total_time(model_to_total, batch_sizes)"
   ]
  },
  {
   "cell_type": "code",
   "execution_count": null,
   "id": "4b1974df-dbe5-4725-860c-8fdaa77bd438",
   "metadata": {},
   "outputs": [],
   "source": []
  }
 ],
 "metadata": {
  "interpreter": {
   "hash": "31f2aee4e71d21fbe5cf8b01ff0e069b9275f58929596ceb00d14d90e3e16cd6"
  },
  "kernelspec": {
   "display_name": "Python 3",
   "language": "python",
   "name": "python3"
  },
  "language_info": {
   "codemirror_mode": {
    "name": "ipython",
    "version": 3
   },
   "file_extension": ".py",
   "mimetype": "text/x-python",
   "name": "python",
   "nbconvert_exporter": "python",
   "pygments_lexer": "ipython3",
   "version": "3.8.10"
  }
 },
 "nbformat": 4,
 "nbformat_minor": 5
}
